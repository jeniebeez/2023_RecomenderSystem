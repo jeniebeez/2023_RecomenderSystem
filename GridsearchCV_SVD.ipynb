{
 "cells": [
  {
   "cell_type": "code",
   "execution_count": 10,
   "id": "dcd3f2ef",
   "metadata": {},
   "outputs": [],
   "source": [
    "import os as os\n",
    "import pandas as pd\n",
    "from surprise import Dataset, Reader"
   ]
  },
  {
   "cell_type": "code",
   "execution_count": 13,
   "id": "ad9f7bc9",
   "metadata": {},
   "outputs": [
    {
     "data": {
      "text/html": [
       "<div>\n",
       "<style scoped>\n",
       "    .dataframe tbody tr th:only-of-type {\n",
       "        vertical-align: middle;\n",
       "    }\n",
       "\n",
       "    .dataframe tbody tr th {\n",
       "        vertical-align: top;\n",
       "    }\n",
       "\n",
       "    .dataframe thead th {\n",
       "        text-align: right;\n",
       "    }\n",
       "</style>\n",
       "<table border=\"1\" class=\"dataframe\">\n",
       "  <thead>\n",
       "    <tr style=\"text-align: right;\">\n",
       "      <th></th>\n",
       "      <th>user_id</th>\n",
       "      <th>movie_id</th>\n",
       "      <th>rating</th>\n",
       "      <th>timestamp</th>\n",
       "    </tr>\n",
       "  </thead>\n",
       "  <tbody>\n",
       "    <tr>\n",
       "      <th>0</th>\n",
       "      <td>196</td>\n",
       "      <td>242</td>\n",
       "      <td>3</td>\n",
       "      <td>881250949</td>\n",
       "    </tr>\n",
       "    <tr>\n",
       "      <th>1</th>\n",
       "      <td>186</td>\n",
       "      <td>302</td>\n",
       "      <td>3</td>\n",
       "      <td>891717742</td>\n",
       "    </tr>\n",
       "    <tr>\n",
       "      <th>2</th>\n",
       "      <td>22</td>\n",
       "      <td>377</td>\n",
       "      <td>1</td>\n",
       "      <td>878887116</td>\n",
       "    </tr>\n",
       "    <tr>\n",
       "      <th>3</th>\n",
       "      <td>244</td>\n",
       "      <td>51</td>\n",
       "      <td>2</td>\n",
       "      <td>880606923</td>\n",
       "    </tr>\n",
       "    <tr>\n",
       "      <th>4</th>\n",
       "      <td>166</td>\n",
       "      <td>346</td>\n",
       "      <td>1</td>\n",
       "      <td>886397596</td>\n",
       "    </tr>\n",
       "  </tbody>\n",
       "</table>\n",
       "</div>"
      ],
      "text/plain": [
       "   user_id  movie_id  rating  timestamp\n",
       "0      196       242       3  881250949\n",
       "1      186       302       3  891717742\n",
       "2       22       377       1  878887116\n",
       "3      244        51       2  880606923\n",
       "4      166       346       1  886397596"
      ]
     },
     "execution_count": 13,
     "metadata": {},
     "output_type": "execute_result"
    }
   ],
   "source": [
    "# path to dataset file\n",
    "file_path = os.path.expanduser(\"C:/Users/AI-Lab/Desktop/推薦系統/ml-100k/ml-100k/u.data\")\n",
    "\n",
    "# As we're loading a custom dataset, we need to define a reader. In the\n",
    "# movielens-100k dataset, each line has the following format:\n",
    "# 'user item rating timestamp', separated by '\\t' characters.\n",
    "reader = Reader(line_format=\"user item rating timestamp\", sep=\"\\t\")\n",
    "\n",
    "data = Dataset.load_from_file(file_path, reader=reader)\n",
    "\n",
    "#Set columns for pandas to read\n",
    "data_cols = [\"user_id\", \"movie_id\", \"rating\", \"timestamp\"]\n",
    "\n",
    "data_pandas = pd.read_csv(\"C:/Users/AI-Lab/Desktop/推薦系統/ml-100k/ml-100k/u.data\",\n",
    "                            sep=\"\\t\", names=data_cols, encoding=\"latin-1\",)\n",
    "data_pandas.head()"
   ]
  },
  {
   "cell_type": "code",
   "execution_count": 16,
   "id": "3ff298cc",
   "metadata": {},
   "outputs": [],
   "source": [
    "import numpy as np\n",
    "from surprise import SVD\n",
    "from surprise.model_selection import GridSearchCV"
   ]
  },
  {
   "cell_type": "code",
   "execution_count": 17,
   "id": "8e373bae",
   "metadata": {},
   "outputs": [
    {
     "name": "stdout",
     "output_type": "stream",
     "text": [
      "RMSE: 0.9611798776421395\n"
     ]
    }
   ],
   "source": [
    "# Define a parameter grid to search over\n",
    "param_grid = {\n",
    "    'n_epochs': [5, 10], # Number of epochs. You can try different numbers here.\n",
    "    'lr_all': [0.002, 0.005], # Learning rate. You can try different values here.\n",
    "    'reg_all': [0.4, 0.6] # Regularization term. You can try different values here.\n",
    "}\n",
    "\n",
    "# Setup the grid search\n",
    "gs = GridSearchCV(SVD, param_grid, measures=['rmse', 'mae'], cv=5)\n",
    "\n",
    "# Perform the grid search\n",
    "gs.fit(data)\n",
    "\n",
    "# Best RMSE score\n",
    "print(f'RMSE: {gs.best_score[\"rmse\"]}')\n"
   ]
  },
  {
   "cell_type": "code",
   "execution_count": 18,
   "id": "f46730a5",
   "metadata": {},
   "outputs": [],
   "source": [
    "from surprise.model_selection import train_test_split"
   ]
  },
  {
   "cell_type": "code",
   "execution_count": 19,
   "id": "4958a204",
   "metadata": {},
   "outputs": [],
   "source": [
    "# Load the dataset and train the model using the best parameters found by GridSearchCV\n",
    "trainset, testset = train_test_split(data, test_size=0.2)\n",
    "\n",
    "best_params = gs.best_params['rmse']\n",
    "algo = SVD(n_epochs=best_params['n_epochs'], lr_all=best_params['lr_all'], reg_all=best_params['reg_all'])\n",
    "algo.fit(trainset)\n",
    "\n",
    "# Make predictions on the testset\n",
    "predictions = algo.test(testset)"
   ]
  },
  {
   "cell_type": "code",
   "execution_count": 20,
   "id": "118b2444",
   "metadata": {},
   "outputs": [
    {
     "name": "stdout",
     "output_type": "stream",
     "text": [
      "NDCG: 0.8889543854295812\n"
     ]
    }
   ],
   "source": [
    "# Calculate_ndcg\n",
    "def calculate_ndcg(predictions, k=10):\n",
    "    user_est_true = {}\n",
    "    for uid, _, true_r, est, _ in predictions:\n",
    "        if uid not in user_est_true:\n",
    "            user_est_true[uid] = []\n",
    "        user_est_true[uid].append((est, true_r))\n",
    "\n",
    "    ndcg = 0\n",
    "    for uid, user_ratings in user_est_true.items():\n",
    "        user_ratings.sort(key=lambda x: x[0], reverse=True)\n",
    "        user_ratings = user_ratings[:k]\n",
    "\n",
    "        dcg = sum([true_r / np.log2(i + 2) for i, (_, true_r) in enumerate(user_ratings)])\n",
    "        idcg = sum([np.log2(i + 2) for i in range(len(user_ratings))])\n",
    "        ndcg += dcg / idcg if idcg > 0 else 0\n",
    "\n",
    "    return ndcg / len(user_est_true)\n",
    "\n",
    "ndcg_value = calculate_ndcg(predictions, k=10)\n",
    "print(f'NDCG: {ndcg_value}')"
   ]
  },
  {
   "cell_type": "code",
   "execution_count": null,
   "id": "a53005c2",
   "metadata": {},
   "outputs": [],
   "source": []
  }
 ],
 "metadata": {
  "kernelspec": {
   "display_name": "Python 3 (ipykernel)",
   "language": "python",
   "name": "python3"
  },
  "language_info": {
   "codemirror_mode": {
    "name": "ipython",
    "version": 3
   },
   "file_extension": ".py",
   "mimetype": "text/x-python",
   "name": "python",
   "nbconvert_exporter": "python",
   "pygments_lexer": "ipython3",
   "version": "3.11.5"
  }
 },
 "nbformat": 4,
 "nbformat_minor": 5
}
